{
  "cells": [
    {
      "cell_type": "markdown",
      "metadata": {
        "id": "view-in-github",
        "colab_type": "text"
      },
      "source": [
        "<a href=\"https://colab.research.google.com/github/abdoufermat5/deep-Learning-ProjetDIC2/blob/main/Text_Generation_model.ipynb\" target=\"_parent\"><img src=\"https://colab.research.google.com/assets/colab-badge.svg\" alt=\"Open In Colab\"/></a>"
      ]
    },
    {
      "cell_type": "markdown",
      "source": [
        "#Text Generation model"
      ],
      "metadata": {
        "id": "uFS2kA67av_k"
      },
      "id": "uFS2kA67av_k"
    },
    {
      "cell_type": "code",
      "execution_count": null,
      "id": "91a9e1fa",
      "metadata": {
        "id": "91a9e1fa"
      },
      "outputs": [],
      "source": [
        "import tensorflow as tf\n",
        "\n",
        "import numpy as np\n",
        "import os\n",
        "import time"
      ]
    },
    {
      "cell_type": "code",
      "source": [
        "path_to_file = tf.keras.utils.get_file('shakespeare.txt', 'https://storage.googleapis.com/download.tensorflow.org/data/shakespeare.txt')"
      ],
      "metadata": {
        "colab": {
          "base_uri": "https://localhost:8080/"
        },
        "id": "C8EGD09w9Qrn",
        "outputId": "7baeec97-1fde-4889-c0b7-daad6b933ae8"
      },
      "id": "C8EGD09w9Qrn",
      "execution_count": null,
      "outputs": [
        {
          "output_type": "stream",
          "name": "stdout",
          "text": [
            "Downloading data from https://storage.googleapis.com/download.tensorflow.org/data/shakespeare.txt\n",
            "1122304/1115394 [==============================] - 0s 0us/step\n",
            "1130496/1115394 [==============================] - 0s 0us/step\n"
          ]
        }
      ]
    },
    {
      "cell_type": "code",
      "source": [
        "# Read, then decode for py2 compat.\n",
        "text = open(path_to_file, 'rb').read().decode(encoding='utf-8')\n",
        "# length of text is the number of characters in it\n",
        "print(f'Length of text: {len(text)} characters')"
      ],
      "metadata": {
        "colab": {
          "base_uri": "https://localhost:8080/"
        },
        "id": "qm9eOTwQ9UXm",
        "outputId": "98bf319c-a0ea-406c-8050-fb30c9ea5c0c"
      },
      "id": "qm9eOTwQ9UXm",
      "execution_count": null,
      "outputs": [
        {
          "output_type": "stream",
          "name": "stdout",
          "text": [
            "Length of text: 1115394 characters\n"
          ]
        }
      ]
    },
    {
      "cell_type": "code",
      "source": [
        "print(text[:250])"
      ],
      "metadata": {
        "colab": {
          "base_uri": "https://localhost:8080/"
        },
        "id": "eMO9cEB99eVG",
        "outputId": "3bb972b1-fa10-4aaa-f0a3-05b6c0f49448"
      },
      "id": "eMO9cEB99eVG",
      "execution_count": null,
      "outputs": [
        {
          "output_type": "stream",
          "name": "stdout",
          "text": [
            "First Citizen:\n",
            "Before we proceed any further, hear me speak.\n",
            "\n",
            "All:\n",
            "Speak, speak.\n",
            "\n",
            "First Citizen:\n",
            "You are all resolved rather to die than to famish?\n",
            "\n",
            "All:\n",
            "Resolved. resolved.\n",
            "\n",
            "First Citizen:\n",
            "First, you know Caius Marcius is chief enemy to the people.\n",
            "\n"
          ]
        }
      ]
    },
    {
      "cell_type": "code",
      "source": [
        "vocab = sorted(set(text))\n",
        "print(f'{len(vocab)} unique characters')"
      ],
      "metadata": {
        "colab": {
          "base_uri": "https://localhost:8080/"
        },
        "id": "e85HmRG19iiv",
        "outputId": "789198f1-7b3c-48e6-b4eb-ccac94aaf18f"
      },
      "id": "e85HmRG19iiv",
      "execution_count": null,
      "outputs": [
        {
          "output_type": "stream",
          "name": "stdout",
          "text": [
            "65 unique characters\n"
          ]
        }
      ]
    },
    {
      "cell_type": "code",
      "source": [
        "ids_from_chars = tf.keras.layers.StringLookup(\n",
        "    vocabulary=list(vocab), mask_token=None)"
      ],
      "metadata": {
        "id": "1sQ6Zwxf_1W4"
      },
      "id": "1sQ6Zwxf_1W4",
      "execution_count": null,
      "outputs": []
    },
    {
      "cell_type": "code",
      "source": [
        "all_ids = ids_from_chars(tf.strings.unicode_split(text, 'UTF-8'))\n",
        "all_ids"
      ],
      "metadata": {
        "colab": {
          "base_uri": "https://localhost:8080/"
        },
        "id": "dR5GJtda9xDI",
        "outputId": "0d61791f-85bc-4627-c4be-1e31fedb4a06"
      },
      "id": "dR5GJtda9xDI",
      "execution_count": null,
      "outputs": [
        {
          "output_type": "execute_result",
          "data": {
            "text/plain": [
              "<tf.Tensor: shape=(1115394,), dtype=int64, numpy=array([19, 48, 57, ..., 46,  9,  1])>"
            ]
          },
          "metadata": {},
          "execution_count": 8
        }
      ]
    },
    {
      "cell_type": "code",
      "source": [
        "ids_dataset = tf.data.Dataset.from_tensor_slices(all_ids)"
      ],
      "metadata": {
        "id": "DLDroeNu-FLn"
      },
      "id": "DLDroeNu-FLn",
      "execution_count": null,
      "outputs": []
    },
    {
      "cell_type": "code",
      "source": [
        "chars_from_ids = tf.keras.layers.StringLookup(\n",
        "    vocabulary=ids_from_chars.get_vocabulary(), invert=True, mask_token=None)"
      ],
      "metadata": {
        "id": "v2nagRu7-SpX"
      },
      "id": "v2nagRu7-SpX",
      "execution_count": null,
      "outputs": []
    },
    {
      "cell_type": "code",
      "source": [
        "for ids in ids_dataset.take(10):\n",
        "    print(chars_from_ids(ids).numpy().decode('utf-8'))"
      ],
      "metadata": {
        "colab": {
          "base_uri": "https://localhost:8080/"
        },
        "id": "w5TGQBpL-J46",
        "outputId": "aa3b50d8-1dc2-4a9f-b25d-c07ee999aead"
      },
      "id": "w5TGQBpL-J46",
      "execution_count": null,
      "outputs": [
        {
          "output_type": "stream",
          "name": "stdout",
          "text": [
            "F\n",
            "i\n",
            "r\n",
            "s\n",
            "t\n",
            " \n",
            "C\n",
            "i\n",
            "t\n",
            "i\n"
          ]
        }
      ]
    },
    {
      "cell_type": "code",
      "source": [
        "seq_length = 100\n",
        "examples_per_epoch = len(text)//(seq_length+1)"
      ],
      "metadata": {
        "id": "52tklnjc-NXx"
      },
      "id": "52tklnjc-NXx",
      "execution_count": null,
      "outputs": []
    },
    {
      "cell_type": "code",
      "source": [
        "sequences = ids_dataset.batch(seq_length+1, drop_remainder=True)\n",
        "\n",
        "for seq in sequences.take(1):\n",
        "  print(chars_from_ids(seq))"
      ],
      "metadata": {
        "colab": {
          "base_uri": "https://localhost:8080/"
        },
        "id": "fldekvcF-Ych",
        "outputId": "8617a911-fc0b-4b7b-c9ef-a6a98be95861"
      },
      "id": "fldekvcF-Ych",
      "execution_count": null,
      "outputs": [
        {
          "output_type": "stream",
          "name": "stdout",
          "text": [
            "tf.Tensor(\n",
            "[b'F' b'i' b'r' b's' b't' b' ' b'C' b'i' b't' b'i' b'z' b'e' b'n' b':'\n",
            " b'\\n' b'B' b'e' b'f' b'o' b'r' b'e' b' ' b'w' b'e' b' ' b'p' b'r' b'o'\n",
            " b'c' b'e' b'e' b'd' b' ' b'a' b'n' b'y' b' ' b'f' b'u' b'r' b't' b'h'\n",
            " b'e' b'r' b',' b' ' b'h' b'e' b'a' b'r' b' ' b'm' b'e' b' ' b's' b'p'\n",
            " b'e' b'a' b'k' b'.' b'\\n' b'\\n' b'A' b'l' b'l' b':' b'\\n' b'S' b'p' b'e'\n",
            " b'a' b'k' b',' b' ' b's' b'p' b'e' b'a' b'k' b'.' b'\\n' b'\\n' b'F' b'i'\n",
            " b'r' b's' b't' b' ' b'C' b'i' b't' b'i' b'z' b'e' b'n' b':' b'\\n' b'Y'\n",
            " b'o' b'u' b' '], shape=(101,), dtype=string)\n"
          ]
        }
      ]
    },
    {
      "cell_type": "code",
      "source": [
        "def text_from_ids(ids):\n",
        "  return tf.strings.reduce_join(chars_from_ids(ids), axis=-1)"
      ],
      "metadata": {
        "id": "UXmKtcEL-il2"
      },
      "id": "UXmKtcEL-il2",
      "execution_count": null,
      "outputs": []
    },
    {
      "cell_type": "code",
      "source": [
        "for seq in sequences.take(5):\n",
        "  print(text_from_ids(seq).numpy())"
      ],
      "metadata": {
        "colab": {
          "base_uri": "https://localhost:8080/"
        },
        "id": "_it1BEY3-bQX",
        "outputId": "77f04609-0d0e-4cb6-b930-f082cbd78925"
      },
      "id": "_it1BEY3-bQX",
      "execution_count": null,
      "outputs": [
        {
          "output_type": "stream",
          "name": "stdout",
          "text": [
            "b'First Citizen:\\nBefore we proceed any further, hear me speak.\\n\\nAll:\\nSpeak, speak.\\n\\nFirst Citizen:\\nYou '\n",
            "b'are all resolved rather to die than to famish?\\n\\nAll:\\nResolved. resolved.\\n\\nFirst Citizen:\\nFirst, you k'\n",
            "b\"now Caius Marcius is chief enemy to the people.\\n\\nAll:\\nWe know't, we know't.\\n\\nFirst Citizen:\\nLet us ki\"\n",
            "b\"ll him, and we'll have corn at our own price.\\nIs't a verdict?\\n\\nAll:\\nNo more talking on't; let it be d\"\n",
            "b'one: away, away!\\n\\nSecond Citizen:\\nOne word, good citizens.\\n\\nFirst Citizen:\\nWe are accounted poor citi'\n"
          ]
        }
      ]
    },
    {
      "cell_type": "code",
      "source": [
        "def split_input_target(sequence):\n",
        "    input_text = sequence[:-1]\n",
        "    target_text = sequence[1:]\n",
        "    return input_text, target_text"
      ],
      "metadata": {
        "id": "tIGbWRqR-eB3"
      },
      "id": "tIGbWRqR-eB3",
      "execution_count": null,
      "outputs": []
    },
    {
      "cell_type": "code",
      "source": [
        "split_input_target(list(\"Polytechnique\"))"
      ],
      "metadata": {
        "colab": {
          "base_uri": "https://localhost:8080/"
        },
        "id": "GbKrEkEv-quw",
        "outputId": "d9e3de3f-47be-4ceb-960e-0a739531954c"
      },
      "id": "GbKrEkEv-quw",
      "execution_count": null,
      "outputs": [
        {
          "output_type": "execute_result",
          "data": {
            "text/plain": [
              "(['P', 'o', 'l', 'y', 't', 'e', 'c', 'h', 'n', 'i', 'q', 'u'],\n",
              " ['o', 'l', 'y', 't', 'e', 'c', 'h', 'n', 'i', 'q', 'u', 'e'])"
            ]
          },
          "metadata": {},
          "execution_count": 17
        }
      ]
    },
    {
      "cell_type": "code",
      "source": [
        "dataset = sequences.map(split_input_target)"
      ],
      "metadata": {
        "id": "l5sV-MwY-uWH"
      },
      "id": "l5sV-MwY-uWH",
      "execution_count": null,
      "outputs": []
    },
    {
      "cell_type": "code",
      "source": [
        "for input_example, target_example in dataset.take(1):\n",
        "    print(\"Input :\", text_from_ids(input_example).numpy())\n",
        "    print(\"Target:\", text_from_ids(target_example).numpy())"
      ],
      "metadata": {
        "colab": {
          "base_uri": "https://localhost:8080/"
        },
        "id": "cY5Nd3Sr-1t6",
        "outputId": "98898536-0273-4bea-b1df-b3cf81ebde32"
      },
      "id": "cY5Nd3Sr-1t6",
      "execution_count": null,
      "outputs": [
        {
          "output_type": "stream",
          "name": "stdout",
          "text": [
            "Input : b'First Citizen:\\nBefore we proceed any further, hear me speak.\\n\\nAll:\\nSpeak, speak.\\n\\nFirst Citizen:\\nYou'\n",
            "Target: b'irst Citizen:\\nBefore we proceed any further, hear me speak.\\n\\nAll:\\nSpeak, speak.\\n\\nFirst Citizen:\\nYou '\n"
          ]
        }
      ]
    },
    {
      "cell_type": "markdown",
      "source": [
        "## Create training batches"
      ],
      "metadata": {
        "id": "CZhp7_sB-8pg"
      },
      "id": "CZhp7_sB-8pg"
    },
    {
      "cell_type": "code",
      "source": [
        "# Batch size\n",
        "BATCH_SIZE = 64\n",
        "\n",
        "BUFFER_SIZE = 10000\n",
        "\n",
        "dataset = (\n",
        "    dataset\n",
        "    .shuffle(BUFFER_SIZE)\n",
        "    .batch(BATCH_SIZE, drop_remainder=True)\n",
        "    .prefetch(tf.data.experimental.AUTOTUNE))\n",
        "\n",
        "dataset"
      ],
      "metadata": {
        "colab": {
          "base_uri": "https://localhost:8080/"
        },
        "id": "PioymuWF-4gG",
        "outputId": "f5b0cf2d-d173-4ae5-e621-21123abe5ac2"
      },
      "id": "PioymuWF-4gG",
      "execution_count": null,
      "outputs": [
        {
          "output_type": "execute_result",
          "data": {
            "text/plain": [
              "<PrefetchDataset shapes: ((64, 100), (64, 100)), types: (tf.int64, tf.int64)>"
            ]
          },
          "metadata": {},
          "execution_count": 20
        }
      ]
    },
    {
      "cell_type": "markdown",
      "source": [
        "## Model"
      ],
      "metadata": {
        "id": "yVPYUu4M_JA6"
      },
      "id": "yVPYUu4M_JA6"
    },
    {
      "cell_type": "markdown",
      "source": [
        "Ce modèle comporte trois couches:\n",
        "\n",
        "* `tf.keras.layers.Embedding` : La couche d'entrée. Une table de consultation entraînable qui va faire correspondre chaque caractère-ID à un vecteur avec des dimensions `embedding_dim` ;\n",
        "* `tf.keras.layers.GRU` : Un type de RNN avec la taille `units=rnn_units` \n",
        "* `tf.keras.layers.Dense` : La couche de sortie, avec des sorties de taille `vocab_size`. Elle sort un logit pour chaque caractère du vocabulaire. Ce sont les log-vraisemblances de chaque caractère selon le modèle."
      ],
      "metadata": {
        "id": "2X0AHurD_Pz2"
      },
      "id": "2X0AHurD_Pz2"
    },
    {
      "cell_type": "code",
      "source": [
        "# longueur du vocabulaire\n",
        "vocab_size = len(vocab)\n",
        "\n",
        "# embedding dimension\n",
        "embedding_dim = 256\n",
        "\n",
        "# nombre de neurones du RNN\n",
        "rnn_units = 1024"
      ],
      "metadata": {
        "id": "-JUNc3I0_BCe"
      },
      "id": "-JUNc3I0_BCe",
      "execution_count": null,
      "outputs": []
    },
    {
      "cell_type": "code",
      "source": [
        "class MyModel(tf.keras.Model):\n",
        "  def __init__(self, vocab_size, embedding_dim, rnn_units):\n",
        "    super().__init__(self)\n",
        "    self.embedding = tf.keras.layers.Embedding(vocab_size, embedding_dim)\n",
        "    self.gru = tf.keras.layers.GRU(rnn_units,\n",
        "                                   return_sequences=True,\n",
        "                                   return_state=True)\n",
        "    self.dense = tf.keras.layers.Dense(vocab_size)\n",
        "\n",
        "  def call(self, inputs, states=None, return_state=False, training=False):\n",
        "    x = inputs\n",
        "    x = self.embedding(x, training=training)\n",
        "    if states is None:\n",
        "      states = self.gru.get_initial_state(x)\n",
        "    x, states = self.gru(x, initial_state=states, training=training)\n",
        "    x = self.dense(x, training=training)\n",
        "\n",
        "    if return_state:\n",
        "      return x, states\n",
        "    else:\n",
        "      return x"
      ],
      "metadata": {
        "id": "rsteLC3S_WBG"
      },
      "id": "rsteLC3S_WBG",
      "execution_count": null,
      "outputs": []
    },
    {
      "cell_type": "code",
      "source": [
        "model = MyModel(\n",
        "    vocab_size=len(ids_from_chars.get_vocabulary()),\n",
        "    embedding_dim=embedding_dim,\n",
        "    rnn_units=rnn_units)"
      ],
      "metadata": {
        "id": "SsCFg-cB_fyR"
      },
      "id": "SsCFg-cB_fyR",
      "execution_count": null,
      "outputs": []
    },
    {
      "cell_type": "code",
      "source": [
        "for input_example_batch, target_example_batch in dataset.take(1):\n",
        "    example_batch_predictions = model(input_example_batch)\n",
        "    print(example_batch_predictions.shape, \"# (batch_size, sequence_length, vocab_size)\")"
      ],
      "metadata": {
        "colab": {
          "base_uri": "https://localhost:8080/"
        },
        "id": "JeRyU8ON_94e",
        "outputId": "3484069c-b382-4278-947f-2d62c3dfbc6b"
      },
      "id": "JeRyU8ON_94e",
      "execution_count": null,
      "outputs": [
        {
          "output_type": "stream",
          "name": "stdout",
          "text": [
            "(64, 100, 66) # (batch_size, sequence_length, vocab_size)\n"
          ]
        }
      ]
    },
    {
      "cell_type": "code",
      "source": [
        "model.summary()"
      ],
      "metadata": {
        "colab": {
          "base_uri": "https://localhost:8080/"
        },
        "id": "Us1bvEAPALit",
        "outputId": "510201bf-fe24-4d2e-93c8-4d50307216cd"
      },
      "id": "Us1bvEAPALit",
      "execution_count": null,
      "outputs": [
        {
          "output_type": "stream",
          "name": "stdout",
          "text": [
            "Model: \"my_model_1\"\n",
            "_________________________________________________________________\n",
            " Layer (type)                Output Shape              Param #   \n",
            "=================================================================\n",
            " embedding_1 (Embedding)     multiple                  16896     \n",
            "                                                                 \n",
            " gru_1 (GRU)                 multiple                  3938304   \n",
            "                                                                 \n",
            " dense_1 (Dense)             multiple                  67650     \n",
            "                                                                 \n",
            "=================================================================\n",
            "Total params: 4,022,850\n",
            "Trainable params: 4,022,850\n",
            "Non-trainable params: 0\n",
            "_________________________________________________________________\n"
          ]
        }
      ]
    },
    {
      "cell_type": "code",
      "source": [
        "sampled_indices = tf.random.categorical(example_batch_predictions[0], num_samples=1)\n",
        "sampled_indices = tf.squeeze(sampled_indices, axis=-1).numpy()"
      ],
      "metadata": {
        "id": "jHOKLkePAVfh"
      },
      "id": "jHOKLkePAVfh",
      "execution_count": null,
      "outputs": []
    },
    {
      "cell_type": "code",
      "source": [
        "sampled_indices"
      ],
      "metadata": {
        "colab": {
          "base_uri": "https://localhost:8080/"
        },
        "id": "EHOlYsDrAc6X",
        "outputId": "626a593e-a47f-4d92-a549-1e5bcc563ade"
      },
      "id": "EHOlYsDrAc6X",
      "execution_count": null,
      "outputs": [
        {
          "output_type": "execute_result",
          "data": {
            "text/plain": [
              "array([21, 11, 34, 12, 62, 37, 46, 40, 59, 17, 12, 29, 44, 20, 25, 35, 32,\n",
              "       14, 34, 44,  5, 14, 33, 52, 25, 18, 21,  5, 40, 24, 17, 49, 18,  5,\n",
              "       23,  3, 24, 58, 62, 39, 34, 65, 62,  6,  3, 23, 41, 16,  5,  7, 58,\n",
              "       20, 20, 41, 50, 56, 11, 55, 46, 37, 21, 64, 52,  7, 41,  7, 63, 43,\n",
              "       50, 56, 25, 56, 52, 27, 31, 51, 18, 10, 34, 34, 51, 56, 23, 18, 58,\n",
              "       46,  7, 35, 62,  8, 27, 44, 39, 58, 41, 44, 39, 60, 49, 28])"
            ]
          },
          "metadata": {},
          "execution_count": 40
        }
      ]
    },
    {
      "cell_type": "code",
      "source": [
        "print(\"Input:\\n\", text_from_ids(input_example_batch[0]).numpy())\n",
        "print()\n",
        "print(\"Next Char Predictions:\\n\", text_from_ids(sampled_indices).numpy())"
      ],
      "metadata": {
        "colab": {
          "base_uri": "https://localhost:8080/"
        },
        "id": "q6ktjM0LAerm",
        "outputId": "cf90aa0b-d0ba-4ec0-e6da-a0db9128ad34"
      },
      "id": "q6ktjM0LAerm",
      "execution_count": null,
      "outputs": [
        {
          "output_type": "stream",
          "name": "stdout",
          "text": [
            "Input:\n",
            " b\"mind;\\nWhat thou dost know of noble Gloucester's death,\\nWho wrought it with the king, and who perform\"\n",
            "\n",
            "Next Char Predictions:\n",
            " b\"H:U;wXgatD;PeGLVSAUe&ATmLEH&aKDjE&J!KswZUzw'!JbC&,sGGbkq:pgXHym,b,xdkqLqmNRlE3UUlqJEsg,Vw-NeZsbeZujO\"\n"
          ]
        }
      ]
    },
    {
      "cell_type": "markdown",
      "source": [
        "## Train the model"
      ],
      "metadata": {
        "id": "QSkUkE-wApNW"
      },
      "id": "QSkUkE-wApNW"
    },
    {
      "cell_type": "code",
      "source": [
        "loss = tf.losses.SparseCategoricalCrossentropy(from_logits=True)"
      ],
      "metadata": {
        "id": "x2iLADBcAhbt"
      },
      "id": "x2iLADBcAhbt",
      "execution_count": null,
      "outputs": []
    },
    {
      "cell_type": "code",
      "source": [
        ""
      ],
      "metadata": {
        "id": "juLimP7ZAsUW"
      },
      "id": "juLimP7ZAsUW",
      "execution_count": null,
      "outputs": []
    },
    {
      "cell_type": "code",
      "source": [
        "model.compile(optimizer='adam', metrics=['accuracy'], loss=loss)"
      ],
      "metadata": {
        "id": "Ae4HidUxAxEG"
      },
      "id": "Ae4HidUxAxEG",
      "execution_count": null,
      "outputs": []
    },
    {
      "cell_type": "code",
      "source": [
        "! mkdir training_checkpoints"
      ],
      "metadata": {
        "id": "SxS24nIyA8oF",
        "colab": {
          "base_uri": "https://localhost:8080/"
        },
        "outputId": "028392df-7e15-4e8c-9b92-029111d7c0cd"
      },
      "id": "SxS24nIyA8oF",
      "execution_count": null,
      "outputs": [
        {
          "output_type": "stream",
          "name": "stdout",
          "text": [
            "mkdir: cannot create directory ‘training_checkpoints’: File exists\n"
          ]
        }
      ]
    },
    {
      "cell_type": "markdown",
      "source": [
        "#### Pour enrégistrer les resultats époques par époques"
      ],
      "metadata": {
        "id": "tLmmhRlNbD-B"
      },
      "id": "tLmmhRlNbD-B"
    },
    {
      "cell_type": "code",
      "source": [
        "# Directory where the checkpoints will be saved\n",
        "checkpoint_dir = './training_checkpoints'\n",
        "# Name of the checkpoint files\n",
        "checkpoint_prefix = os.path.join(checkpoint_dir, \"ckpt_{epoch}\")\n",
        "\n",
        "checkpoint_callback = tf.keras.callbacks.ModelCheckpoint(\n",
        "    filepath=checkpoint_prefix,\n",
        "    save_weights_only=True)"
      ],
      "metadata": {
        "id": "GOspF2W1A1Ke"
      },
      "id": "GOspF2W1A1Ke",
      "execution_count": null,
      "outputs": []
    },
    {
      "cell_type": "markdown",
      "source": [
        "### Entrainement"
      ],
      "metadata": {
        "id": "CeaNh-SrbOvC"
      },
      "id": "CeaNh-SrbOvC"
    },
    {
      "cell_type": "code",
      "source": [
        "EPOCHS = 20\n",
        "history = model.fit(dataset, epochs=EPOCHS, callbacks=[checkpoint_callback])"
      ],
      "metadata": {
        "colab": {
          "base_uri": "https://localhost:8080/"
        },
        "id": "j5RHyF1DBAXl",
        "outputId": "11610ec0-5c77-40c1-d68b-4be34a3afe24"
      },
      "id": "j5RHyF1DBAXl",
      "execution_count": null,
      "outputs": [
        {
          "output_type": "stream",
          "name": "stdout",
          "text": [
            "Epoch 1/20\n",
            "172/172 [==============================] - 25s 126ms/step - loss: 2.7427 - accuracy: 0.2766\n",
            "Epoch 2/20\n",
            "172/172 [==============================] - 23s 128ms/step - loss: 2.0038 - accuracy: 0.4143\n",
            "Epoch 3/20\n",
            "172/172 [==============================] - 24s 130ms/step - loss: 1.7214 - accuracy: 0.4901\n",
            "Epoch 4/20\n",
            "172/172 [==============================] - 24s 131ms/step - loss: 1.5572 - accuracy: 0.5331\n",
            "Epoch 5/20\n",
            "172/172 [==============================] - 24s 130ms/step - loss: 1.4566 - accuracy: 0.5591\n",
            "Epoch 6/20\n",
            "172/172 [==============================] - 24s 130ms/step - loss: 1.3878 - accuracy: 0.5761\n",
            "Epoch 7/20\n",
            "172/172 [==============================] - 24s 129ms/step - loss: 1.3356 - accuracy: 0.5890\n",
            "Epoch 8/20\n",
            "172/172 [==============================] - 24s 129ms/step - loss: 1.2908 - accuracy: 0.6005\n",
            "Epoch 9/20\n",
            "172/172 [==============================] - 23s 128ms/step - loss: 1.2512 - accuracy: 0.6105\n",
            "Epoch 10/20\n",
            "172/172 [==============================] - 24s 128ms/step - loss: 1.2128 - accuracy: 0.6205\n",
            "Epoch 11/20\n",
            "172/172 [==============================] - 23s 127ms/step - loss: 1.1742 - accuracy: 0.6311\n",
            "Epoch 12/20\n",
            "172/172 [==============================] - 24s 128ms/step - loss: 1.1337 - accuracy: 0.6427\n",
            "Epoch 13/20\n",
            "172/172 [==============================] - 23s 128ms/step - loss: 1.0918 - accuracy: 0.6548\n",
            "Epoch 14/20\n",
            "172/172 [==============================] - 24s 129ms/step - loss: 1.0473 - accuracy: 0.6681\n",
            "Epoch 15/20\n",
            "172/172 [==============================] - 24s 131ms/step - loss: 1.0004 - accuracy: 0.6823\n",
            "Epoch 16/20\n",
            "172/172 [==============================] - 24s 130ms/step - loss: 0.9506 - accuracy: 0.6977\n",
            "Epoch 17/20\n",
            "172/172 [==============================] - 26s 133ms/step - loss: 0.8986 - accuracy: 0.7141\n",
            "Epoch 18/20\n",
            "172/172 [==============================] - 24s 130ms/step - loss: 0.8472 - accuracy: 0.7308\n",
            "Epoch 19/20\n",
            "172/172 [==============================] - 24s 129ms/step - loss: 0.7942 - accuracy: 0.7476\n",
            "Epoch 20/20\n",
            "172/172 [==============================] - 23s 127ms/step - loss: 0.7449 - accuracy: 0.7640\n"
          ]
        }
      ]
    },
    {
      "cell_type": "code",
      "source": [
        "from matplotlib import pyplot \n",
        "history = model.history\n",
        "pyplot.plot(history.history['loss'], label='train loss') \n",
        "pyplot.legend() \n",
        "pyplot.show()"
      ],
      "metadata": {
        "id": "DJXC6CataEvE",
        "outputId": "5a753355-e802-43bb-800b-a4e75c2a9e5d",
        "colab": {
          "base_uri": "https://localhost:8080/",
          "height": 265
        }
      },
      "id": "DJXC6CataEvE",
      "execution_count": null,
      "outputs": [
        {
          "output_type": "display_data",
          "data": {
            "image/png": "[encoded data removed]",
            "text/plain": [
              "<Figure size 432x288 with 1 Axes>"
            ]
          },
          "metadata": {
            "needs_background": "light"
          }
        }
      ]
    },
    {
      "cell_type": "code",
      "source": [
        "from matplotlib import pyplot \n",
        "history = model.history\n",
        "pyplot.plot(history.history['accuracy'], label='train accuracy') \n",
        "pyplot.legend() \n",
        "pyplot.show()"
      ],
      "metadata": {
        "colab": {
          "base_uri": "https://localhost:8080/",
          "height": 265
        },
        "id": "Pp9Wiw_EYwbr",
        "outputId": "c895f123-f3d9-4d3a-b27e-734298517762"
      },
      "id": "Pp9Wiw_EYwbr",
      "execution_count": null,
      "outputs": [
        {
          "output_type": "display_data",
          "data": {
            "image/png": "[encoded data removed]",
            "text/plain": [
              "<Figure size 432x288 with 1 Axes>"
            ]
          },
          "metadata": {
            "needs_background": "light"
          }
        }
      ]
    },
    {
      "cell_type": "code",
      "source": [
        "class OneStep(tf.keras.Model):\n",
        "  def __init__(self, model, chars_from_ids, ids_from_chars, temperature=1.0):\n",
        "    super().__init__()\n",
        "    self.temperature = temperature\n",
        "    self.model = model\n",
        "    self.chars_from_ids = chars_from_ids\n",
        "    self.ids_from_chars = ids_from_chars\n",
        "\n",
        "    # Créez un masque pour empêcher la génération de \"[UNK]\".\n",
        "    skip_ids = self.ids_from_chars(['[UNK]'])[:, None]\n",
        "    sparse_mask = tf.SparseTensor(\n",
        "        # mettre -inf aux mauvais index.\n",
        "        values=[-float('inf')]*len(skip_ids),\n",
        "        indices=skip_ids,\n",
        "        # accomoder la taille a celle du vocabulaire\n",
        "        dense_shape=[len(ids_from_chars.get_vocabulary())])\n",
        "    self.prediction_mask = tf.sparse.to_dense(sparse_mask)\n",
        "\n",
        "  @tf.function\n",
        "  def generate_one_step(self, inputs, states=None):\n",
        "    #conversion string -> id token\n",
        "    input_chars = tf.strings.unicode_split(inputs, 'UTF-8')\n",
        "    input_ids = self.ids_from_chars(input_chars).to_tensor()\n",
        "\n",
        "    # lancer le model\n",
        "    \n",
        "    predicted_logits, states = self.model(inputs=input_ids, states=states,\n",
        "                                          return_state=True)\n",
        "    # n'utiliser que la dernière prédiction.\n",
        "    predicted_logits = predicted_logits[:, -1, :]\n",
        "    predicted_logits = predicted_logits/self.temperature\n",
        "    # appliquer un masque pour empêcher la génération de \"[UNK]\".\n",
        "    predicted_logits = predicted_logits + self.prediction_mask\n",
        "\n",
        "  \n",
        "    predicted_ids = tf.random.categorical(predicted_logits, num_samples=1)\n",
        "    predicted_ids = tf.squeeze(predicted_ids, axis=-1)\n",
        "\n",
        "    \n",
        "    predicted_chars = self.chars_from_ids(predicted_ids)\n",
        "\n",
        "   \n",
        "    return predicted_chars, states"
      ],
      "metadata": {
        "id": "nXs3E9NdBF8F"
      },
      "id": "nXs3E9NdBF8F",
      "execution_count": null,
      "outputs": []
    },
    {
      "cell_type": "code",
      "source": [
        "one_step_model = OneStep(model, chars_from_ids, ids_from_chars)"
      ],
      "metadata": {
        "id": "8SCHjqySKr1z"
      },
      "id": "8SCHjqySKr1z",
      "execution_count": null,
      "outputs": []
    },
    {
      "cell_type": "code",
      "source": [
        "start = time.time()\n",
        "states = None\n",
        "next_char = tf.constant(['ROMEO:'])\n",
        "result = [next_char]\n",
        "\n",
        "for n in range(1000):\n",
        "  next_char, states = one_step_model.generate_one_step(next_char, states=states)\n",
        "  result.append(next_char)\n",
        "\n",
        "result = tf.strings.join(result)\n",
        "end = time.time()\n",
        "print(result[0].numpy().decode('utf-8'), '\\n\\n' + '_'*80)\n",
        "print('\\nRun time:', end - start)"
      ],
      "metadata": {
        "colab": {
          "base_uri": "https://localhost:8080/"
        },
        "id": "7pqvabAoKu6U",
        "outputId": "22fe5034-edcc-437b-dafd-f5a4b66e4ca1"
      },
      "id": "7pqvabAoKu6U",
      "execution_count": null,
      "outputs": [
        {
          "output_type": "stream",
          "name": "stdout",
          "text": [
            "ROMEO:\n",
            "Let me entreat you.\n",
            "\n",
            "BUCKINGHAM:\n",
            "Why then, they live, I say! here comes King Lady--\n",
            "Come, gentlemen, long our coach o'er away the realm;\n",
            "For on that judgmen and drink out of his sin\n",
            "To do him there as justice; yet as school-mind\n",
            "That you had thereby neighbours.\n",
            "Never for the voice o' the court,\n",
            "Beserved their waking, think of his\n",
            "Aboutly a present correction to the woo\n",
            "That raised into earnest are held with you;\n",
            "For God bount impossibing cooked afform'd Toward:\n",
            "This is the war, where thou hast made good merry maid\n",
            "To be the offering informited contracted\n",
            "Tybalt closed with one benefity: I must\n",
            "opposite but smelt as desperate, what shout is this\n",
            "That you reprieve to pray when there die not.\n",
            "\n",
            "Third Servant:\n",
            "What, shall I drop tell? then every trubh\n",
            "To her fortune wheels me hard. But in some merry must\n",
            "Sent for thee. Lords, at your pleasure;\n",
            "If you would hear your princely knee?\n",
            "Where is the foolish and order? not?\n",
            "\n",
            "Provost:\n",
            "Well, your mother, as I see, and tell the queen, presently,\n",
            "To  \n",
            "\n",
            "________________________________________________________________________________\n",
            "\n",
            "Run time: 7.035458564758301\n"
          ]
        }
      ]
    },
    {
      "cell_type": "code",
      "source": [
        "tf.saved_model.save(one_step_model, 'text_generation')\n",
        "one_step_reloaded = tf.saved_model.load('text_generation')"
      ],
      "metadata": {
        "colab": {
          "base_uri": "https://localhost:8080/"
        },
        "id": "6wS_f4UlLLSU",
        "outputId": "45a1a4e6-65da-403f-f025-a40a64a8b311"
      },
      "id": "6wS_f4UlLLSU",
      "execution_count": null,
      "outputs": [
        {
          "output_type": "stream",
          "name": "stdout",
          "text": [
            "WARNING:tensorflow:Skipping full serialization of Keras layer <__main__.OneStep object at 0x7f74bdc80510>, because it is not built.\n"
          ]
        },
        {
          "output_type": "stream",
          "name": "stderr",
          "text": [
            "WARNING:absl:Found untraced functions such as gru_cell_layer_call_fn, gru_cell_layer_call_and_return_conditional_losses, gru_cell_layer_call_fn, gru_cell_layer_call_and_return_conditional_losses, gru_cell_layer_call_and_return_conditional_losses while saving (showing 5 of 5). These functions will not be directly callable after loading.\n"
          ]
        },
        {
          "output_type": "stream",
          "name": "stdout",
          "text": [
            "INFO:tensorflow:Assets written to: text_generation/assets\n"
          ]
        },
        {
          "output_type": "stream",
          "name": "stderr",
          "text": [
            "INFO:tensorflow:Assets written to: text_generation/assets\n"
          ]
        }
      ]
    },
    {
      "cell_type": "code",
      "source": [
        "!zip -r text_generation.zip text_generation"
      ],
      "metadata": {
        "colab": {
          "base_uri": "https://localhost:8080/"
        },
        "id": "CrlwmW3wLmYj",
        "outputId": "040b7c72-4cee-448a-943c-26ef8010f95b"
      },
      "id": "CrlwmW3wLmYj",
      "execution_count": null,
      "outputs": [
        {
          "output_type": "stream",
          "name": "stdout",
          "text": [
            "  adding: text_generation/ (stored 0%)\n",
            "  adding: text_generation/saved_model.pb (deflated 90%)\n",
            "  adding: text_generation/assets/ (stored 0%)\n",
            "  adding: text_generation/variables/ (stored 0%)\n",
            "  adding: text_generation/variables/variables.index (deflated 61%)\n",
            "  adding: text_generation/variables/variables.data-00000-of-00001 (deflated 8%)\n"
          ]
        }
      ]
    },
    {
      "cell_type": "code",
      "source": [
        ""
      ],
      "metadata": {
        "id": "QITyXqnoMIyy"
      },
      "id": "QITyXqnoMIyy",
      "execution_count": null,
      "outputs": []
    }
  ],
  "metadata": {
    "kernelspec": {
      "display_name": "Python 3 (ipykernel)",
      "language": "python",
      "name": "python3"
    },
    "language_info": {
      "codemirror_mode": {
        "name": "ipython",
        "version": 3
      },
      "file_extension": ".py",
      "mimetype": "text/x-python",
      "name": "python",
      "nbconvert_exporter": "python",
      "pygments_lexer": "ipython3",
      "version": "3.7.11"
    },
    "colab": {
      "name": "Text Generation model.ipynb",
      "provenance": [],
      "collapsed_sections": [],
      "include_colab_link": true
    },
    "accelerator": "GPU"
  },
  "nbformat": 4,
  "nbformat_minor": 5
}